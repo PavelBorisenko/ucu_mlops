{
 "cells": [
  {
   "cell_type": "code",
   "execution_count": 117,
   "id": "initial_id",
   "metadata": {
    "collapsed": true,
    "ExecuteTime": {
     "end_time": "2024-05-27T17:47:50.624005Z",
     "start_time": "2024-05-27T17:47:50.615997Z"
    }
   },
   "outputs": [],
   "source": [
    "import pandas as pd\n",
    "import numpy as np\n",
    "import pickle\n",
    "from sklearn.model_selection import train_test_split\n",
    "from sklearn.linear_model import LinearRegression\n",
    "from sklearn.tree import DecisionTreeRegressor\n",
    "from sklearn.ensemble import RandomForestRegressor\n",
    "from sklearn.svm import SVR\n",
    "from sklearn.ensemble import BaggingRegressor, GradientBoostingRegressor, VotingRegressor\n",
    "from sklearn.metrics import mean_absolute_error, mean_squared_error"
   ]
  },
  {
   "cell_type": "code",
   "execution_count": 100,
   "outputs": [
    {
     "data": {
      "text/plain": "   Unnamed: 0        date  pm25    o3   no2   co\n0           0  2024-05-01  54.0  30.0  16.0  2.0\n1           3  2024-05-04  27.0  22.0  10.0  2.0\n2           5  2024-05-06  66.0  44.0  12.0  2.0\n3           6  2024-05-07  34.0  41.0  18.0  2.0\n4           8  2024-05-09  17.0  23.0   8.0  2.0",
      "text/html": "<div>\n<style scoped>\n    .dataframe tbody tr th:only-of-type {\n        vertical-align: middle;\n    }\n\n    .dataframe tbody tr th {\n        vertical-align: top;\n    }\n\n    .dataframe thead th {\n        text-align: right;\n    }\n</style>\n<table border=\"1\" class=\"dataframe\">\n  <thead>\n    <tr style=\"text-align: right;\">\n      <th></th>\n      <th>Unnamed: 0</th>\n      <th>date</th>\n      <th>pm25</th>\n      <th>o3</th>\n      <th>no2</th>\n      <th>co</th>\n    </tr>\n  </thead>\n  <tbody>\n    <tr>\n      <th>0</th>\n      <td>0</td>\n      <td>2024-05-01</td>\n      <td>54.0</td>\n      <td>30.0</td>\n      <td>16.0</td>\n      <td>2.0</td>\n    </tr>\n    <tr>\n      <th>1</th>\n      <td>3</td>\n      <td>2024-05-04</td>\n      <td>27.0</td>\n      <td>22.0</td>\n      <td>10.0</td>\n      <td>2.0</td>\n    </tr>\n    <tr>\n      <th>2</th>\n      <td>5</td>\n      <td>2024-05-06</td>\n      <td>66.0</td>\n      <td>44.0</td>\n      <td>12.0</td>\n      <td>2.0</td>\n    </tr>\n    <tr>\n      <th>3</th>\n      <td>6</td>\n      <td>2024-05-07</td>\n      <td>34.0</td>\n      <td>41.0</td>\n      <td>18.0</td>\n      <td>2.0</td>\n    </tr>\n    <tr>\n      <th>4</th>\n      <td>8</td>\n      <td>2024-05-09</td>\n      <td>17.0</td>\n      <td>23.0</td>\n      <td>8.0</td>\n      <td>2.0</td>\n    </tr>\n  </tbody>\n</table>\n</div>"
     },
     "execution_count": 100,
     "metadata": {},
     "output_type": "execute_result"
    }
   ],
   "source": [
    "cleaned_data= pd.read_csv('./data/cleaned_new_york_air_quality.csv')\n",
    "cleaned_data.head()"
   ],
   "metadata": {
    "collapsed": false,
    "ExecuteTime": {
     "end_time": "2024-05-26T12:33:16.183359Z",
     "start_time": "2024-05-26T12:33:16.167546Z"
    }
   },
   "id": "d5cbeb161e0099cb"
  },
  {
   "cell_type": "code",
   "execution_count": 101,
   "outputs": [],
   "source": [
    "from sklearn.metrics import mean_absolute_error\n",
    "\n",
    "# Create lagged features for PM2.5\n",
    "for i in range(1, 8):\n",
    "    cleaned_data[f'pm25_lag_{i}'] = cleaned_data['pm25'].shift(i)\n",
    "\n",
    "cleaned_data.dropna(inplace=True)\n",
    "\n",
    "# Features and target\n",
    "X = cleaned_data[[f'pm25_lag_{i}' for i in range(1, 8)]]\n",
    "y = cleaned_data['pm25']\n",
    "\n",
    "X_train, X_test, y_train, y_test = train_test_split(X, y, test_size=0.2, shuffle=False)"
   ],
   "metadata": {
    "collapsed": false,
    "ExecuteTime": {
     "end_time": "2024-05-26T12:33:19.345995Z",
     "start_time": "2024-05-26T12:33:19.340767Z"
    }
   },
   "id": "c4b79ef8c482c1e8"
  },
  {
   "cell_type": "code",
   "execution_count": 106,
   "outputs": [
    {
     "data": {
      "text/plain": "                                MAE         MSE       RMSE\nLinear Regression          9.734856  146.873468  12.119136\nDecision Tree Regressor   14.156653  329.301428  18.146664\nRandom Forest Regressor    9.967672  158.489886  12.589277\nSupport Vector Regressor  10.400013  169.583429  13.022420",
      "text/html": "<div>\n<style scoped>\n    .dataframe tbody tr th:only-of-type {\n        vertical-align: middle;\n    }\n\n    .dataframe tbody tr th {\n        vertical-align: top;\n    }\n\n    .dataframe thead th {\n        text-align: right;\n    }\n</style>\n<table border=\"1\" class=\"dataframe\">\n  <thead>\n    <tr style=\"text-align: right;\">\n      <th></th>\n      <th>MAE</th>\n      <th>MSE</th>\n      <th>RMSE</th>\n    </tr>\n  </thead>\n  <tbody>\n    <tr>\n      <th>Linear Regression</th>\n      <td>9.734856</td>\n      <td>146.873468</td>\n      <td>12.119136</td>\n    </tr>\n    <tr>\n      <th>Decision Tree Regressor</th>\n      <td>14.156653</td>\n      <td>329.301428</td>\n      <td>18.146664</td>\n    </tr>\n    <tr>\n      <th>Random Forest Regressor</th>\n      <td>9.967672</td>\n      <td>158.489886</td>\n      <td>12.589277</td>\n    </tr>\n    <tr>\n      <th>Support Vector Regressor</th>\n      <td>10.400013</td>\n      <td>169.583429</td>\n      <td>13.022420</td>\n    </tr>\n  </tbody>\n</table>\n</div>"
     },
     "execution_count": 106,
     "metadata": {},
     "output_type": "execute_result"
    }
   ],
   "source": [
    "# Initialize models\n",
    "models = {\n",
    "    'Linear Regression': LinearRegression(),\n",
    "    'Decision Tree Regressor': DecisionTreeRegressor(),\n",
    "    'Random Forest Regressor': RandomForestRegressor(n_estimators=100),\n",
    "    'Support Vector Regressor': SVR()\n",
    "}\n",
    "\n",
    "# Dictionary to store the performance metrics\n",
    "performance = {}\n",
    "\n",
    "# Train and evaluate each model\n",
    "for model_name, model in models.items():\n",
    "    model.fit(X_train, y_train)\n",
    "    y_pred = model.predict(X_test)\n",
    "\n",
    "    mae = mean_absolute_error(y_test, y_pred)\n",
    "    mse = mean_squared_error(y_test, y_pred)\n",
    "    rmse = np.sqrt(mse)\n",
    "\n",
    "    performance[model_name] = {'MAE': mae, 'MSE': mse, 'RMSE': rmse}\n",
    "\n",
    "# Convert the performance dictionary to a DataFrame for better readability\n",
    "performance_df = pd.DataFrame(performance).T\n",
    "\n",
    "performance_df"
   ],
   "metadata": {
    "collapsed": false,
    "ExecuteTime": {
     "end_time": "2024-05-26T12:33:45.609380Z",
     "start_time": "2024-05-26T12:33:44.878298Z"
    }
   },
   "id": "7db70328f7a6ae23"
  },
  {
   "cell_type": "code",
   "execution_count": 114,
   "outputs": [
    {
     "data": {
      "text/plain": "                                  MAE         MSE       RMSE\nBagging Regressor            9.969660  157.588599  12.553430\nGradient Boosting Regressor  9.853147  154.230348  12.418951\nVoting Regressor             9.866378  153.009225  12.369690",
      "text/html": "<div>\n<style scoped>\n    .dataframe tbody tr th:only-of-type {\n        vertical-align: middle;\n    }\n\n    .dataframe tbody tr th {\n        vertical-align: top;\n    }\n\n    .dataframe thead th {\n        text-align: right;\n    }\n</style>\n<table border=\"1\" class=\"dataframe\">\n  <thead>\n    <tr style=\"text-align: right;\">\n      <th></th>\n      <th>MAE</th>\n      <th>MSE</th>\n      <th>RMSE</th>\n    </tr>\n  </thead>\n  <tbody>\n    <tr>\n      <th>Bagging Regressor</th>\n      <td>9.969660</td>\n      <td>157.588599</td>\n      <td>12.553430</td>\n    </tr>\n    <tr>\n      <th>Gradient Boosting Regressor</th>\n      <td>9.853147</td>\n      <td>154.230348</td>\n      <td>12.418951</td>\n    </tr>\n    <tr>\n      <th>Voting Regressor</th>\n      <td>9.866378</td>\n      <td>153.009225</td>\n      <td>12.369690</td>\n    </tr>\n  </tbody>\n</table>\n</div>"
     },
     "execution_count": 114,
     "metadata": {},
     "output_type": "execute_result"
    }
   ],
   "source": [
    "# Initialize ensemble models\n",
    "bagging_regressor = BaggingRegressor(estimator=DecisionTreeRegressor(), n_estimators=100, random_state=42)\n",
    "gradient_boosting_regressor = GradientBoostingRegressor(n_estimators=100, random_state=42)\n",
    "voting_regressor = VotingRegressor(estimators=[\n",
    "    ('lr', LinearRegression()),\n",
    "    ('rf', RandomForestRegressor(n_estimators=100, random_state=42)),\n",
    "    ('svr', SVR())\n",
    "])\n",
    "\n",
    "# Train and evaluate each ensemble model\n",
    "ensemble_models = {\n",
    "    'Bagging Regressor': bagging_regressor,\n",
    "    'Gradient Boosting Regressor': gradient_boosting_regressor,\n",
    "    'Voting Regressor': voting_regressor\n",
    "}\n",
    "\n",
    "# Dictionary to store the performance metrics\n",
    "ensemble_performance = {}\n",
    "\n",
    "# Train and evaluate each ensemble model\n",
    "for model_name, model in ensemble_models.items():\n",
    "    model.fit(X_train, y_train)\n",
    "    y_pred = model.predict(X_test)\n",
    "\n",
    "    mae = mean_absolute_error(y_test, y_pred)\n",
    "    mse = mean_squared_error(y_test, y_pred)\n",
    "    rmse = np.sqrt(mse)\n",
    "\n",
    "    ensemble_performance[model_name] = {'MAE': mae, 'MSE': mse, 'RMSE': rmse}\n",
    "\n",
    "# Convert the performance dictionary to a DataFrame for better readability\n",
    "ensemble_performance_df = pd.DataFrame(ensemble_performance).T\n",
    "\n",
    "ensemble_performance_df\n"
   ],
   "metadata": {
    "collapsed": false,
    "ExecuteTime": {
     "end_time": "2024-05-26T12:36:53.715297Z",
     "start_time": "2024-05-26T12:36:52.423369Z"
    }
   },
   "id": "42432128992d7302"
  },
  {
   "cell_type": "code",
   "execution_count": 115,
   "outputs": [
    {
     "data": {
      "text/plain": "                                   MAE         MSE       RMSE\nLinear Regression             9.734856  146.873468  12.119136\nDecision Tree Regressor      14.156653  329.301428  18.146664\nRandom Forest Regressor       9.967672  158.489886  12.589277\nSupport Vector Regressor     10.400013  169.583429  13.022420\nBagging Regressor             9.969660  157.588599  12.553430\nGradient Boosting Regressor   9.853147  154.230348  12.418951\nVoting Regressor              9.866378  153.009225  12.369690",
      "text/html": "<div>\n<style scoped>\n    .dataframe tbody tr th:only-of-type {\n        vertical-align: middle;\n    }\n\n    .dataframe tbody tr th {\n        vertical-align: top;\n    }\n\n    .dataframe thead th {\n        text-align: right;\n    }\n</style>\n<table border=\"1\" class=\"dataframe\">\n  <thead>\n    <tr style=\"text-align: right;\">\n      <th></th>\n      <th>MAE</th>\n      <th>MSE</th>\n      <th>RMSE</th>\n    </tr>\n  </thead>\n  <tbody>\n    <tr>\n      <th>Linear Regression</th>\n      <td>9.734856</td>\n      <td>146.873468</td>\n      <td>12.119136</td>\n    </tr>\n    <tr>\n      <th>Decision Tree Regressor</th>\n      <td>14.156653</td>\n      <td>329.301428</td>\n      <td>18.146664</td>\n    </tr>\n    <tr>\n      <th>Random Forest Regressor</th>\n      <td>9.967672</td>\n      <td>158.489886</td>\n      <td>12.589277</td>\n    </tr>\n    <tr>\n      <th>Support Vector Regressor</th>\n      <td>10.400013</td>\n      <td>169.583429</td>\n      <td>13.022420</td>\n    </tr>\n    <tr>\n      <th>Bagging Regressor</th>\n      <td>9.969660</td>\n      <td>157.588599</td>\n      <td>12.553430</td>\n    </tr>\n    <tr>\n      <th>Gradient Boosting Regressor</th>\n      <td>9.853147</td>\n      <td>154.230348</td>\n      <td>12.418951</td>\n    </tr>\n    <tr>\n      <th>Voting Regressor</th>\n      <td>9.866378</td>\n      <td>153.009225</td>\n      <td>12.369690</td>\n    </tr>\n  </tbody>\n</table>\n</div>"
     },
     "execution_count": 115,
     "metadata": {},
     "output_type": "execute_result"
    }
   ],
   "source": [
    "combined_performance_df = pd.concat([performance_df, ensemble_performance_df])\n",
    "\n",
    "combined_performance_df"
   ],
   "metadata": {
    "collapsed": false,
    "ExecuteTime": {
     "end_time": "2024-05-26T12:37:35.259869Z",
     "start_time": "2024-05-26T12:37:35.255344Z"
    }
   },
   "id": "edd2d6099b4e19ca"
  },
  {
   "cell_type": "code",
   "execution_count": 118,
   "outputs": [
    {
     "name": "stdout",
     "output_type": "stream",
     "text": [
      "Model saved successfully as 'model.pkl'\n"
     ]
    }
   ],
   "source": [
    "with open('model.pkl', 'wb') as file:\n",
    "    pickle.dump(models['Linear Regression'], file)\n",
    "\n",
    "print(\"Model saved successfully as 'model.pkl'\")"
   ],
   "metadata": {
    "collapsed": false,
    "ExecuteTime": {
     "end_time": "2024-05-27T17:49:31.016303Z",
     "start_time": "2024-05-27T17:49:30.998112Z"
    }
   },
   "id": "a2a5634251fbcc26"
  }
 ],
 "metadata": {
  "kernelspec": {
   "display_name": "Python 3",
   "language": "python",
   "name": "python3"
  },
  "language_info": {
   "codemirror_mode": {
    "name": "ipython",
    "version": 2
   },
   "file_extension": ".py",
   "mimetype": "text/x-python",
   "name": "python",
   "nbconvert_exporter": "python",
   "pygments_lexer": "ipython2",
   "version": "2.7.6"
  }
 },
 "nbformat": 4,
 "nbformat_minor": 5
}
